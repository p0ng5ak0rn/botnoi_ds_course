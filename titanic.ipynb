{
 "cells": [
  {
   "cell_type": "code",
   "execution_count": 1,
   "metadata": {},
   "outputs": [],
   "source": [
    "import numpy as np\n",
    "import pandas as pd\n",
    "import matplotlib.pyplot as plt\n",
    "%matplotlib inline\n",
    "\n",
    "\n",
    "from sklearn.ensemble import GradientBoostingClassifier, AdaBoostClassifier, RandomForestClassifier\n",
    "from sklearn.model_selection import cross_val_score, StratifiedKFold, cross_val_predict\n",
    "from sklearn.feature_selection import RFECV\n",
    "from sklearn.linear_model import LogisticRegression\n",
    "from sklearn.svm import SVC, LinearSVC\n",
    "from sklearn.preprocessing import StandardScaler\n",
    "from sklearn.naive_bayes import GaussianNB\n",
    "from sklearn.metrics import accuracy_score"
   ]
  },
  {
   "cell_type": "code",
   "execution_count": 2,
   "metadata": {},
   "outputs": [],
   "source": [
    "# reference: https://medium.com/@v_winn/botnoi-classroom-titanic-dataset-pipeline-8e106e5c68a5"
   ]
  },
  {
   "cell_type": "raw",
   "metadata": {},
   "source": [
    "'Survived'\n",
    "'Pclass'\n",
    "'Name' -> get title (val-score: same), get name length (val-score: decrease)\n",
    "'Sex' -> convert to binary (val-score: improve)\n",
    "'Age' -> is_missing (val-score: same), age_range=10 (val-score: slightly improve)\n",
    "'SibSp'\n",
    "'Parch' \n",
    "'Ticket'\n",
    "'Fare' -> correct Fare (multiply values for traveling in group)\n",
    "'Cabin' -> is_missing column (val-score: improve), dummy Cabin letters (val-score: decrease),\n",
    "           'Cabin_count' (val-score: slightly decrease)\n",
    "'Embarked' -> get dummy variables (val-score: not improve"
   ]
  },
  {
   "cell_type": "code",
   "execution_count": 2,
   "metadata": {},
   "outputs": [],
   "source": [
    "#train_file = 'new_Titanic_train.csv'\n",
    "#test_file = 'new_Titanic_test.csv'\n",
    "\n",
    "train_file = 'data/titanic_train.csv'\n",
    "test_file = 'data/titanic_test.csv'"
   ]
  },
  {
   "cell_type": "code",
   "execution_count": 3,
   "metadata": {},
   "outputs": [],
   "source": [
    "train = pd.read_csv('new_Titanic_train.csv', index_col=0)\n",
    "test = pd.read_csv('new_Titanic_test.csv', index_col=0)"
   ]
  },
  {
   "cell_type": "code",
   "execution_count": null,
   "metadata": {},
   "outputs": [],
   "source": []
  },
  {
   "cell_type": "code",
   "execution_count": 4,
   "metadata": {},
   "outputs": [],
   "source": [
    "def get_data(filepath):\n",
    "    data = pd.read_csv(filepath, index_col=0)\n",
    "    X = data.drop(\"Survived\", axis=1)\n",
    "    y = data['Survived']\n",
    "    return X, y"
   ]
  },
  {
   "cell_type": "code",
   "execution_count": null,
   "metadata": {},
   "outputs": [],
   "source": []
  },
  {
   "cell_type": "code",
   "execution_count": 169,
   "metadata": {},
   "outputs": [],
   "source": [
    "# using sklearn pipeline\n",
    "from sklearn.pipeline import Pipeline, FeatureUnion\n",
    "from sklearn.compose import ColumnTransformer\n",
    "from sklearn.preprocessing import Imputer, OrdinalEncoder, OneHotEncoder, LabelEncoder, PowerTransformer\n",
    "from sklearn.impute import MissingIndicator, SimpleImputer\n",
    "\n",
    "from sklearn.metrics import accuracy_score\n",
    "from sklearn.model_selection import StratifiedKFold, cross_val_score\n",
    "\n",
    "from sklearn.base import BaseEstimator, TransformerMixin"
   ]
  },
  {
   "cell_type": "code",
   "execution_count": 59,
   "metadata": {},
   "outputs": [],
   "source": [
    "k5 = StratifiedKFold(n_splits=5, shuffle=True, random_state=123)\n",
    "k10 = StratifiedKFold(n_splits=10, shuffle=True, random_state=888)\n",
    "\n",
    "def compute_cv_score(pipe, X, y, cv, scoring, text=\"\"):\n",
    "    scores = cross_val_score(pipe, X, y ,cv=cv, scoring=scoring, n_jobs=2)\n",
    "    print(\"CV-score: {}\\n- mean={:.3f}, std={:.3f}\".format(text, scores.mean(), scores.std()))"
   ]
  },
  {
   "cell_type": "code",
   "execution_count": 8,
   "metadata": {},
   "outputs": [],
   "source": [
    "X_train ,y_train = get_data(train_file)\n",
    "X_test, y_test = get_data(test_file)"
   ]
  },
  {
   "cell_type": "code",
   "execution_count": 7,
   "metadata": {},
   "outputs": [
    {
     "data": {
      "text/html": [
       "<div>\n",
       "<style scoped>\n",
       "    .dataframe tbody tr th:only-of-type {\n",
       "        vertical-align: middle;\n",
       "    }\n",
       "\n",
       "    .dataframe tbody tr th {\n",
       "        vertical-align: top;\n",
       "    }\n",
       "\n",
       "    .dataframe thead th {\n",
       "        text-align: right;\n",
       "    }\n",
       "</style>\n",
       "<table border=\"1\" class=\"dataframe\">\n",
       "  <thead>\n",
       "    <tr style=\"text-align: right;\">\n",
       "      <th></th>\n",
       "      <th>Pclass</th>\n",
       "      <th>Name</th>\n",
       "      <th>Sex</th>\n",
       "      <th>Age</th>\n",
       "      <th>SibSp</th>\n",
       "      <th>Parch</th>\n",
       "      <th>Ticket</th>\n",
       "      <th>Fare</th>\n",
       "      <th>Cabin</th>\n",
       "      <th>Embarked</th>\n",
       "    </tr>\n",
       "    <tr>\n",
       "      <th>PassengerId</th>\n",
       "      <th></th>\n",
       "      <th></th>\n",
       "      <th></th>\n",
       "      <th></th>\n",
       "      <th></th>\n",
       "      <th></th>\n",
       "      <th></th>\n",
       "      <th></th>\n",
       "      <th></th>\n",
       "      <th></th>\n",
       "    </tr>\n",
       "  </thead>\n",
       "  <tbody>\n",
       "    <tr>\n",
       "      <th>75</th>\n",
       "      <td>3</td>\n",
       "      <td>Bing, Mr. Lee</td>\n",
       "      <td>male</td>\n",
       "      <td>32.0</td>\n",
       "      <td>0</td>\n",
       "      <td>0</td>\n",
       "      <td>1601</td>\n",
       "      <td>56.4958</td>\n",
       "      <td>NaN</td>\n",
       "      <td>S</td>\n",
       "    </tr>\n",
       "    <tr>\n",
       "      <th>205</th>\n",
       "      <td>3</td>\n",
       "      <td>Cohen, Mr. Gurshon \"Gus\"</td>\n",
       "      <td>male</td>\n",
       "      <td>18.0</td>\n",
       "      <td>0</td>\n",
       "      <td>0</td>\n",
       "      <td>A/5 3540</td>\n",
       "      <td>8.0500</td>\n",
       "      <td>NaN</td>\n",
       "      <td>S</td>\n",
       "    </tr>\n",
       "    <tr>\n",
       "      <th>234</th>\n",
       "      <td>3</td>\n",
       "      <td>Asplund, Miss. Lillian Gertrud</td>\n",
       "      <td>female</td>\n",
       "      <td>5.0</td>\n",
       "      <td>4</td>\n",
       "      <td>2</td>\n",
       "      <td>347077</td>\n",
       "      <td>31.3875</td>\n",
       "      <td>NaN</td>\n",
       "      <td>S</td>\n",
       "    </tr>\n",
       "    <tr>\n",
       "      <th>634</th>\n",
       "      <td>1</td>\n",
       "      <td>Parr, Mr. William Henry Marsh</td>\n",
       "      <td>male</td>\n",
       "      <td>NaN</td>\n",
       "      <td>0</td>\n",
       "      <td>0</td>\n",
       "      <td>112052</td>\n",
       "      <td>0.0000</td>\n",
       "      <td>NaN</td>\n",
       "      <td>S</td>\n",
       "    </tr>\n",
       "    <tr>\n",
       "      <th>844</th>\n",
       "      <td>3</td>\n",
       "      <td>Lemberopolous, Mr. Peter L</td>\n",
       "      <td>male</td>\n",
       "      <td>34.5</td>\n",
       "      <td>0</td>\n",
       "      <td>0</td>\n",
       "      <td>2683</td>\n",
       "      <td>6.4375</td>\n",
       "      <td>NaN</td>\n",
       "      <td>C</td>\n",
       "    </tr>\n",
       "  </tbody>\n",
       "</table>\n",
       "</div>"
      ],
      "text/plain": [
       "             Pclass                            Name     Sex   Age  SibSp  \\\n",
       "PassengerId                                                                \n",
       "75                3                   Bing, Mr. Lee    male  32.0      0   \n",
       "205               3        Cohen, Mr. Gurshon \"Gus\"    male  18.0      0   \n",
       "234               3  Asplund, Miss. Lillian Gertrud  female   5.0      4   \n",
       "634               1   Parr, Mr. William Henry Marsh    male   NaN      0   \n",
       "844               3      Lemberopolous, Mr. Peter L    male  34.5      0   \n",
       "\n",
       "             Parch    Ticket     Fare Cabin Embarked  \n",
       "PassengerId                                           \n",
       "75               0      1601  56.4958   NaN        S  \n",
       "205              0  A/5 3540   8.0500   NaN        S  \n",
       "234              2    347077  31.3875   NaN        S  \n",
       "634              0    112052   0.0000   NaN        S  \n",
       "844              0      2683   6.4375   NaN        C  "
      ]
     },
     "execution_count": 7,
     "metadata": {},
     "output_type": "execute_result"
    }
   ],
   "source": [
    "X_train.head()"
   ]
  },
  {
   "cell_type": "code",
   "execution_count": 12,
   "metadata": {},
   "outputs": [
    {
     "data": {
      "text/plain": [
       "Pclass      0.000000\n",
       "Name        0.000000\n",
       "Sex         0.000000\n",
       "Age         0.205056\n",
       "SibSp       0.000000\n",
       "Parch       0.000000\n",
       "Ticket      0.000000\n",
       "Fare        0.000000\n",
       "Cabin       0.765449\n",
       "Embarked    0.002809\n",
       "dtype: float64"
      ]
     },
     "execution_count": 12,
     "metadata": {},
     "output_type": "execute_result"
    }
   ],
   "source": [
    "X_train.isnull().sum() / X_train.shape[0]"
   ]
  },
  {
   "cell_type": "code",
   "execution_count": 11,
   "metadata": {},
   "outputs": [
    {
     "data": {
      "text/plain": [
       "Pclass        0\n",
       "Name          0\n",
       "Sex           0\n",
       "Age          31\n",
       "SibSp         0\n",
       "Parch         0\n",
       "Ticket        0\n",
       "Fare          0\n",
       "Cabin       142\n",
       "Embarked      0\n",
       "dtype: int64"
      ]
     },
     "execution_count": 11,
     "metadata": {},
     "output_type": "execute_result"
    }
   ],
   "source": [
    "X_test.isnull().sum()"
   ]
  },
  {
   "cell_type": "code",
   "execution_count": 13,
   "metadata": {},
   "outputs": [
    {
     "data": {
      "text/plain": [
       "Pclass        int64\n",
       "Name         object\n",
       "Sex          object\n",
       "Age         float64\n",
       "SibSp         int64\n",
       "Parch         int64\n",
       "Ticket       object\n",
       "Fare        float64\n",
       "Cabin        object\n",
       "Embarked     object\n",
       "dtype: object"
      ]
     },
     "execution_count": 13,
     "metadata": {},
     "output_type": "execute_result"
    }
   ],
   "source": [
    "dtype_by_cols = X_train.dtypes\n",
    "dtype_by_cols"
   ]
  },
  {
   "cell_type": "code",
   "execution_count": 71,
   "metadata": {},
   "outputs": [],
   "source": [
    "num_cols = ['Pclass', 'SibSp', 'Parch', 'Fare']"
   ]
  },
  {
   "cell_type": "code",
   "execution_count": 196,
   "metadata": {},
   "outputs": [],
   "source": [
    "# customized transformer\n",
    "\n",
    "class TextExtractor(BaseEstimator, TransformerMixin):\n",
    "    \n",
    "    def __init__(self, text_pat=\"\"):\n",
    "        self.text_pat = text_pat\n",
    "        \n",
    "    def fit(self, X, y=None):\n",
    "        import re\n",
    "        self.regex_  = re.compile(self.text_pat)\n",
    "        self.extract_func_ = np.vectorize(lambda x: self.regex_.findall(x)[0])\n",
    "        return self\n",
    "    \n",
    "    def transform(self, X, y=None):\n",
    "        result = self.extract_func_(X)\n",
    "        return result\n",
    "    \n",
    "class GroupNominal(BaseEstimator, TransformerMixin):\n",
    "    '''group nominal feature according to threshold'''\n",
    "    \n",
    "    def __init__(self, threshold=0.05):\n",
    "        self.threshold = threshold\n",
    "        \n",
    "    def fit(self, X, y=None):\n",
    "        n_rows, self.n_cols_ = X.shape\n",
    "        self.col_dict_ = {}\n",
    "        for i in range(self.n_cols_):\n",
    "            vec = X[:, i]\n",
    "            name_count = pd.value_counts(vec) / n_rows\n",
    "            name_to_keep = set(name_count.index[name_count > threshold])\n",
    "            \n",
    "            # init dict to keep value learn for each column\n",
    "            self.col_dict_[i] = {}\n",
    "            self.col_dict_[i]['name_to_keep'] = name_to_keep\n",
    "            f = np.vectorize(lambda x: x if x in name_to_keep else \"Other\")\n",
    "            self.col_dict_[i]['func'] = f\n",
    "        return self\n",
    "    \n",
    "    def transform(self, X, y=None):\n",
    "        assert X.shape[1]==self.n_cols_\n",
    "        Xt = np.copy(X)\n",
    "        for i in range(self.n_cols_):\n",
    "            f = self.col_dict_[i]['func']\n",
    "            Xt[:, i] = f(X[:, i])\n",
    "        return Xt\n",
    "    \n",
    "class RandomImputer(BaseEstimator, TransformerMixin):\n",
    "    \n",
    "    def fit(self, X, y=None):\n",
    "        self.n_cols_ = X.shape[1]\n",
    "        return self\n",
    "    \n",
    "    def transform(self, X, y=None):\n",
    "        assert self.n_cols_ == X.shape[1], 'number of columns mismatch'\n",
    "        \n",
    "        Xt = np.copy(X)\n",
    "        for i in range(self.n_cols_):\n",
    "            # count missing value\n",
    "            na_mask = pd.isnull(X[:, i])\n",
    "            na_count = np.sum(na_mask)\n",
    "            if na_count > 0:\n",
    "                to_fill = np.random.normal(size=na_count)\n",
    "                Xt[na_mask, i] = to_fill\n",
    "        return Xt"
   ]
  },
  {
   "cell_type": "code",
   "execution_count": 197,
   "metadata": {},
   "outputs": [],
   "source": [
    "# Classifier\n",
    "gb = GradientBoostingClassifier()\n",
    "\n",
    "\n",
    "# Missing value: Age(~20%), Cabin(~76%), Embarked(< 1%)\n",
    "\n",
    "# Embarked preprocess: Impute with mode -> Onehot encoding\n",
    "embarked_selector = ColumnTransformer(transformers=[\n",
    "                        ('impute', SimpleImputer(strategy=\"most_frequent\"), ['Embarked']),\n",
    "                    ], remainder='drop')\n",
    "\n",
    "embark_prep = Pipeline(steps=[\n",
    "    ('impute', embarked_selector),\n",
    "    ('onehot', OneHotEncoder(sparse=False))\n",
    "])\n",
    "\n",
    "# Cabin preprocess: convert missing to missing indicator\n",
    "missing_indicator_prep = ColumnTransformer(transformers=[\n",
    "    ('missing', MissingIndicator(sparse=False), ['Cabin', 'Age'])\n",
    "], remainder='drop')\n",
    "\n",
    "\n",
    "# Sex: label encoder\n",
    "sex_prep = ColumnTransformer(transformers=[\n",
    "    ('sex', OrdinalEncoder(), ['Sex'])\n",
    "], remainder='drop')\n",
    "\n",
    "# num columns: ['Pclass', 'SibSp', 'Parch', 'Fare']\n",
    "num_prep = ColumnTransformer(transformers=[\n",
    "    ('numeric', SimpleImputer(), num_cols)\n",
    "], remainder='drop')\n",
    "\n",
    "# Name: extract title\n",
    "title_extract = ColumnTransformer(transformers=[\n",
    "    ('title', TextExtractor(r', ([A-Za-z]+). '), ['Name'])\n",
    "], remainder='drop')\n",
    "\n",
    "title_prep = Pipeline(steps=[\n",
    "    ('get_title', title_extract),\n",
    "    ('group_title', GroupNominal()),\n",
    "    ('onehot', OneHotEncoder(sparse=False))\n",
    "])\n",
    "\n",
    "# Age -> power_transform -> fill nan [mean, median, random, end of distribution]\n",
    "\n",
    "age_power_transform = ColumnTransformer(transformers=[\n",
    "    ('yeo_johnson', PowerTransformer(), ['Age'])\n",
    "], remainder='drop')\n",
    "\n",
    "age_mean_prep = Pipeline(steps=[\n",
    "    ('selector', age_power_transform),\n",
    "    ('impute', SimpleImputer(strategy='mean'))\n",
    "])\n",
    "\n",
    "age_median_prep = Pipeline(steps=[\n",
    "    ('selector', age_power_transform),\n",
    "    ('impute', SimpleImputer(strategy='median'))\n",
    "])\n",
    "\n",
    "age_3sd_prep = Pipeline(steps=[\n",
    "    ('selector', age_power_transform),\n",
    "    ('impute', SimpleImputer(strategy='constant', fill_value=3.0))\n",
    "])\n",
    "\n",
    "age_rnd_prep = Pipeline(steps=[\n",
    "    ('selector', age_power_transform),\n",
    "    ('impute', RandomImputer())\n",
    "])\n",
    "\n",
    "# Age -> bucket\n",
    "\n",
    "\n",
    "# combine features\n",
    "all_prep = FeatureUnion(transformer_list=[\n",
    "    #('embark_prep', embark_prep),\n",
    "    ('missing_indicator', missing_indicator_prep),\n",
    "    ('sex_prep', sex_prep),\n",
    "    ('num_prep', num_prep),\n",
    "    ('title_prep', title_prep),\n",
    "    ('age_mean', age_mean_prep),        \n",
    "    #('age_median', age_median_prep),  \n",
    "    #('age_3sd', age_3sd_prep),\n",
    "    ('age_rnd', age_rnd_prep)\n",
    "    \n",
    "], n_jobs=2)\n",
    "\n",
    "\n",
    "\n",
    "\n",
    "# full pipeline\n",
    "full_pipe = Pipeline(steps=[\n",
    "    ('prep', all_prep),\n",
    "    ('clf', gb)\n",
    "])"
   ]
  },
  {
   "cell_type": "code",
   "execution_count": 142,
   "metadata": {},
   "outputs": [
    {
     "data": {
      "text/plain": [
       "array([[0., 1., 0., 0.],\n",
       "       [0., 1., 0., 0.],\n",
       "       [1., 0., 0., 0.],\n",
       "       [0., 1., 0., 0.],\n",
       "       [0., 1., 0., 0.]])"
      ]
     },
     "execution_count": 142,
     "metadata": {},
     "output_type": "execute_result"
    }
   ],
   "source": [
    "temp = title_prep.fit(X_train).transform(X_train)\n",
    "temp[:5]"
   ]
  },
  {
   "cell_type": "code",
   "execution_count": 140,
   "metadata": {},
   "outputs": [
    {
     "data": {
      "text/plain": [
       "array([[ 1.    ,  0.    ,  1.    ,  3.    ,  0.    ,  0.    , 56.4958,\n",
       "         0.    ,  1.    ,  0.    ,  0.    ],\n",
       "       [ 1.    ,  0.    ,  1.    ,  3.    ,  0.    ,  0.    ,  8.05  ,\n",
       "         0.    ,  1.    ,  0.    ,  0.    ],\n",
       "       [ 1.    ,  0.    ,  0.    ,  3.    ,  4.    ,  2.    , 31.3875,\n",
       "         1.    ,  0.    ,  0.    ,  0.    ],\n",
       "       [ 1.    ,  1.    ,  1.    ,  1.    ,  0.    ,  0.    ,  0.    ,\n",
       "         0.    ,  1.    ,  0.    ,  0.    ],\n",
       "       [ 1.    ,  0.    ,  1.    ,  3.    ,  0.    ,  0.    ,  6.4375,\n",
       "         0.    ,  1.    ,  0.    ,  0.    ]])"
      ]
     },
     "execution_count": 140,
     "metadata": {},
     "output_type": "execute_result"
    }
   ],
   "source": [
    "temp = all_prep.fit_transform(X_train)\n",
    "temp[:5]"
   ]
  },
  {
   "cell_type": "code",
   "execution_count": 42,
   "metadata": {},
   "outputs": [],
   "source": [
    "# check if pipe can work with test set\n",
    "y_pred = full_pipe.fit(X_train, y_train).predict(X_test)"
   ]
  },
  {
   "cell_type": "code",
   "execution_count": 63,
   "metadata": {},
   "outputs": [
    {
     "name": "stdout",
     "output_type": "stream",
     "text": [
      "CV-score: Embarked Onehot\n",
      "- mean=0.625, std=0.044\n"
     ]
    }
   ],
   "source": [
    "compute_cv_score(full_pipe, X_train, y_train, cv=k10, \n",
    "                 scoring='accuracy', text=\"Embarked Onehot\")"
   ]
  },
  {
   "cell_type": "code",
   "execution_count": 65,
   "metadata": {},
   "outputs": [
    {
     "name": "stdout",
     "output_type": "stream",
     "text": [
      "CV-score: Embarked Onehot + Missing[Cabin, Age]\n",
      "- mean=0.692, std=0.029\n"
     ]
    }
   ],
   "source": [
    "compute_cv_score(full_pipe, X_train, y_train, cv=k10, \n",
    "                 scoring='accuracy', text=\"Embarked Onehot + Missing[Cabin, Age]\")"
   ]
  },
  {
   "cell_type": "code",
   "execution_count": 61,
   "metadata": {},
   "outputs": [
    {
     "name": "stdout",
     "output_type": "stream",
     "text": [
      "CV-score: Embarked Onehot + Missing[Cabin, Age] + Sex\n",
      "- mean=0.773, std=0.039\n"
     ]
    }
   ],
   "source": [
    "compute_cv_score(full_pipe, X_train, y_train, cv=k10, \n",
    "                 scoring='accuracy', text=\"Embarked Onehot + Missing[Cabin, Age] + Sex\")"
   ]
  },
  {
   "cell_type": "code",
   "execution_count": 74,
   "metadata": {},
   "outputs": [
    {
     "name": "stdout",
     "output_type": "stream",
     "text": [
      "CV-score: Embarked Onehot + Missing[Cabin, Age] + Sex + numeric_columns\n",
      "- mean=0.784, std=0.035\n"
     ]
    }
   ],
   "source": [
    "compute_cv_score(full_pipe, X_train, y_train, cv=k10, \n",
    "                 scoring='accuracy', text=\"Embarked Onehot + Missing[Cabin, Age] + Sex + numeric_columns\")"
   ]
  },
  {
   "cell_type": "code",
   "execution_count": 76,
   "metadata": {},
   "outputs": [
    {
     "name": "stdout",
     "output_type": "stream",
     "text": [
      "CV-score: Missing[Cabin, Age] + Sex + numeric_columns\n",
      "- mean=0.795, std=0.030\n"
     ]
    }
   ],
   "source": [
    "compute_cv_score(full_pipe, X_train, y_train, cv=k10, \n",
    "                 scoring='accuracy', text=\"Missing[Cabin, Age] + Sex + numeric_columns\")"
   ]
  },
  {
   "cell_type": "code",
   "execution_count": 148,
   "metadata": {},
   "outputs": [
    {
     "name": "stdout",
     "output_type": "stream",
     "text": [
      "CV-score: Missing[Cabin, Age] + Sex + numeric_columns + Title\n",
      "- mean=0.812, std=0.025\n"
     ]
    }
   ],
   "source": [
    "compute_cv_score(full_pipe, X_train, y_train, cv=k10, scoring='accuracy', \n",
    "                 text=\"Missing[Cabin, Age] + Sex + numeric_columns + Title\")"
   ]
  },
  {
   "cell_type": "code",
   "execution_count": 177,
   "metadata": {},
   "outputs": [
    {
     "name": "stdout",
     "output_type": "stream",
     "text": [
      "CV-score: Missing[Cabin, Age] + Sex + numeric_columns + Title + Age[median]\n",
      "- mean=0.824, std=0.035\n"
     ]
    }
   ],
   "source": [
    "compute_cv_score(full_pipe, X_train, y_train, cv=k10, scoring='accuracy', \n",
    "                 text=\"Missing[Cabin, Age] + Sex + numeric_columns + Title + Age[median]\")"
   ]
  },
  {
   "cell_type": "code",
   "execution_count": 179,
   "metadata": {},
   "outputs": [
    {
     "name": "stdout",
     "output_type": "stream",
     "text": [
      "CV-score: Missing[Cabin, Age] + Sex + numeric_columns + Title + Age[3sd]\n",
      "- mean=0.823, std=0.029\n"
     ]
    }
   ],
   "source": [
    "compute_cv_score(full_pipe, X_train, y_train, cv=k10, scoring='accuracy', \n",
    "                 text=\"Missing[Cabin, Age] + Sex + numeric_columns + Title + Age[3sd]\")"
   ]
  },
  {
   "cell_type": "code",
   "execution_count": 198,
   "metadata": {},
   "outputs": [
    {
     "name": "stdout",
     "output_type": "stream",
     "text": [
      "CV-score: Missing[Cabin, Age] + Sex + numeric_columns + Title + Age[rnd]\n",
      "- mean=0.824, std=0.040\n"
     ]
    }
   ],
   "source": [
    "compute_cv_score(full_pipe, X_train, y_train, cv=k10, scoring='accuracy', \n",
    "                 text=\"Missing[Cabin, Age] + Sex + numeric_columns + Title + Age[rnd]\")"
   ]
  },
  {
   "cell_type": "code",
   "execution_count": 175,
   "metadata": {},
   "outputs": [
    {
     "name": "stdout",
     "output_type": "stream",
     "text": [
      "CV-score: Missing[Cabin, Age] + Sex + numeric_columns + Title + Age[mean]\n",
      "- mean=0.829, std=0.036\n"
     ]
    }
   ],
   "source": [
    "compute_cv_score(full_pipe, X_train, y_train, cv=k10, scoring='accuracy', \n",
    "                 text=\"Missing[Cabin, Age] + Sex + numeric_columns + Title + Age[mean]\")"
   ]
  },
  {
   "cell_type": "code",
   "execution_count": null,
   "metadata": {},
   "outputs": [],
   "source": []
  },
  {
   "cell_type": "code",
   "execution_count": null,
   "metadata": {},
   "outputs": [],
   "source": []
  },
  {
   "cell_type": "code",
   "execution_count": null,
   "metadata": {},
   "outputs": [],
   "source": []
  },
  {
   "cell_type": "code",
   "execution_count": null,
   "metadata": {},
   "outputs": [],
   "source": []
  }
 ],
 "metadata": {
  "kernelspec": {
   "display_name": "Python 3",
   "language": "python",
   "name": "python3"
  },
  "language_info": {
   "codemirror_mode": {
    "name": "ipython",
    "version": 3
   },
   "file_extension": ".py",
   "mimetype": "text/x-python",
   "name": "python",
   "nbconvert_exporter": "python",
   "pygments_lexer": "ipython3",
   "version": "3.6.8"
  }
 },
 "nbformat": 4,
 "nbformat_minor": 2
}
